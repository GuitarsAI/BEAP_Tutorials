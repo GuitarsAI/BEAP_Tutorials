{
 "cells": [
  {
   "cell_type": "markdown",
   "metadata": {
    "slideshow": {
     "slide_type": "slide"
    }
   },
   "source": [
    "<p align=\"center\">\n",
    "    <img src=\"./images/logo_beap.png\">\n",
    "</p>\n",
    "\n",
    "### Renato Profeta <br> Guitars.AI <br> PhD Candidate / Researcher\n",
    "\n"
   ]
  },
  {
   "cell_type": "markdown",
   "metadata": {
    "slideshow": {
     "slide_type": "-"
    }
   },
   "source": [
    "# Audio CODEC Configuration"
   ]
  },
  {
   "cell_type": "code",
   "execution_count": 1,
   "metadata": {
    "hide_input": true
   },
   "outputs": [
    {
     "data": {
      "text/html": [
       "<center>\n",
       "<iframe width=\"560\" height=\"315\" src=\"https://www.youtube.com/embed/e1FpS2C0aYI\" frameborder=\"0\" allow=\"accelerometer; encrypted-media; gyroscope; picture-in-picture\" allowfullscreen></iframe>\n",
       "</center>\n"
      ],
      "text/plain": [
       "<IPython.core.display.HTML object>"
      ]
     },
     "metadata": {},
     "output_type": "display_data"
    }
   ],
   "source": [
    "%%html\n",
    "<center>\n",
    "<iframe width=\"560\" height=\"315\" src=\"https://www.youtube.com/embed/e1FpS2C0aYI\" frameborder=\"0\" allow=\"accelerometer; encrypted-media; gyroscope; picture-in-picture\" allowfullscreen></iframe>\n",
    "</center>"
   ]
  },
  {
   "cell_type": "markdown",
   "metadata": {
    "hide_input": true,
    "slideshow": {
     "slide_type": "-"
    }
   },
   "source": [
    " - Different audio sources have different electrical output characteristics. <br>\n",
    " \n",
    "<figure>\n",
    "    <center>\n",
    "        <img src=\"./images/03_01_level-ranges.jpg\" width=\"700\">\n",
    "        <cite>https://sessionville.com/articles/signals-from-source-to-daw-part1</cite>\n",
    "    </center>\n",
    "</figure>\n"
   ]
  },
  {
   "cell_type": "markdown",
   "metadata": {},
   "source": [
    "### Audio CODEC Block Diagram"
   ]
  },
  {
   "cell_type": "markdown",
   "metadata": {},
   "source": [
    "<figure>\n",
    "    <center>\n",
    "        <img src=\"./images/03_05_codec_diagram.jpg\" width=\"800\">\n",
    "        <cite>AIC3204 Datasheet SLOS602A</cite>\n",
    "    </center>\n",
    "</figure>"
   ]
  },
  {
   "cell_type": "markdown",
   "metadata": {
    "slideshow": {
     "slide_type": "slide"
    }
   },
   "source": [
    "## ADC Gain Setting"
   ]
  },
  {
   "cell_type": "code",
   "execution_count": 3,
   "metadata": {
    "hide_input": true
   },
   "outputs": [
    {
     "data": {
      "text/html": [
       "<center>\n",
       "<iframe width=\"560\" height=\"315\" src=\"https://www.youtube.com/embed/fIXRhBtkC8A\" frameborder=\"0\" allow=\"accelerometer; encrypted-media; gyroscope; picture-in-picture\" allowfullscreen></iframe>\n",
       "</center>\n"
      ],
      "text/plain": [
       "<IPython.core.display.HTML object>"
      ]
     },
     "metadata": {},
     "output_type": "display_data"
    }
   ],
   "source": [
    "%%html\n",
    "<center>\n",
    "<iframe width=\"560\" height=\"315\" src=\"https://www.youtube.com/embed/fIXRhBtkC8A\" frameborder=\"0\" allow=\"accelerometer; encrypted-media; gyroscope; picture-in-picture\" allowfullscreen></iframe>\n",
    "</center>"
   ]
  },
  {
   "cell_type": "markdown",
   "metadata": {
    "hide_input": false
   },
   "source": [
    " - \"The AIC3204 features a Analog Programmable Gain Amplifier (PGA) for boosting low-level signals, such as direct\n",
    "    microphone inputs, to full-scale to achieve high SNR.\" \n",
    "\n",
    "<br>\n",
    "<figure>\n",
    "    <center>\n",
    "        <img src=\"./images/03_02_pga.jpg\" width=\"800\">\n",
    "        <cite>AIC3204 Datasheet SLOS602A</cite>\n",
    "    </center>\n",
    "</figure>\n",
    "\n",
    "\n",
    " - \"This gain can be user controlled by writing to Page 1, Register 59 and Page 1, Register 60.\"\n",
    " \n",
    " \n",
    "<br>\n",
    "<figure>\n",
    "    <center>\n",
    "        <img src=\"./images/03_02_pga_volume.jpg\" width=\"800\">\n",
    "        <cite>AIC3204 Datasheet SLOS602A</cite>\n",
    "    </center>\n",
    "</figure>"
   ]
  },
  {
   "cell_type": "markdown",
   "metadata": {
    "slideshow": {
     "slide_type": "-"
    }
   },
   "source": [
    "## Sampling Rate Configuration"
   ]
  },
  {
   "cell_type": "code",
   "execution_count": 4,
   "metadata": {
    "hide_input": true
   },
   "outputs": [
    {
     "data": {
      "text/html": [
       "<center>\n",
       "<iframe width=\"560\" height=\"315\" src=\"https://www.youtube.com/embed/AyEXZ22Yguc\" frameborder=\"0\" allow=\"accelerometer; encrypted-media; gyroscope; picture-in-picture\" allowfullscreen></iframe>\n",
       "</center>\n"
      ],
      "text/plain": [
       "<IPython.core.display.HTML object>"
      ]
     },
     "metadata": {},
     "output_type": "display_data"
    }
   ],
   "source": [
    "%%html\n",
    "<center>\n",
    "<iframe width=\"560\" height=\"315\" src=\"https://www.youtube.com/embed/AyEXZ22Yguc\" frameborder=\"0\" allow=\"accelerometer; encrypted-media; gyroscope; picture-in-picture\" allowfullscreen></iframe>\n",
    "</center>"
   ]
  },
  {
   "attachments": {},
   "cell_type": "markdown",
   "metadata": {
    "slideshow": {
     "slide_type": "-"
    }
   },
   "source": [
    " - The AIC3204 uses a fixed oscillator on the outside (12 MHz) conected at the  MCLK pin.\n",
    " \n",
    " <br>\n",
    "<figure>\n",
    "    <center>\n",
    "        <img src=\"./images/03_03_codec_mclk.jpg\" width=\"800\">\n",
    "        <cite>TMS320C5515 eZdsp USB Stick Technical Reference</cite>\n",
    "    </center>\n",
    "</figure>"
   ]
  },
  {
   "cell_type": "markdown",
   "metadata": {},
   "source": [
    "### Phase-locked Loop  (PLL)"
   ]
  },
  {
   "cell_type": "markdown",
   "metadata": {},
   "source": [
    " - A control system that can generate an accurate output signal of frequency equal to, or a multiple of, the input signal    frequency.\n",
    " - \"The TLV320AIC3204 provides the option of using the on-chip PLL which supports a wide range of fractional multiplication values to generate the required clocks. Starting from CODEC_CLKIN the TLV320AIC3204 provides several programmable clock dividers to help achieve a variety of sampling rates for ADC, DAC and clocks for the processing block.\"\n",
    " - \"The clocks for ADC and DA require a source reference clock. This clock can be provided on variety of device pins such as MCLK, BCLK or GPI pins.\""
   ]
  },
  {
   "cell_type": "markdown",
   "metadata": {},
   "source": [
    "<figure>\n",
    "    <center>\n",
    "        <img src=\"./images/03_06_pll_clock.jpg\" width=\"600\">\n",
    "        <cite>AIC3204 Datasheet SLOS602A</cite>\n",
    "    </center>\n",
    "</figure>"
   ]
  },
  {
   "cell_type": "markdown",
   "metadata": {},
   "source": [
    " - The source reference clock for the codec can be chosen by programming the CODEC_CLKIN value on Page 0, Register 4, D(1:0)."
   ]
  },
  {
   "cell_type": "markdown",
   "metadata": {},
   "source": [
    " - The PLL can be programmed via Page 0, Registers 5 thru 8. \n",
    "    - The PLL can be turned on via Page 0, Register 5, D(7). \n",
    "    - The variable P can be programmed via Page 0, Register 5, D(6:4). The default register value for P is 2. \n",
    "    - The variable R can be programmed via Page 0, Register 5, D(3:0). The default register value for R is 1. \n",
    "    - The variable J can be programmed via Page 0, Register 6, D(5:0). \n",
    "    - The variable D is 12-bits and is programmed into two registers. The MSB portion can be programmed via Page 0, Register 7,      D(5:0), and the LSB portion is programmed via Page 0, Register 8, D(5:0). The default register value for D is 0."
   ]
  },
  {
   "cell_type": "code",
   "execution_count": 5,
   "metadata": {},
   "outputs": [],
   "source": [
    "def calc_PLL_CLK(PLL_CLKIN, R, P, J, D):\n",
    "    return (PLL_CLKIN * R * (J+D/10**(len(str(D)))))/P"
   ]
  },
  {
   "cell_type": "code",
   "execution_count": 6,
   "metadata": {},
   "outputs": [
    {
     "data": {
      "text/plain": [
       "86016000.0"
      ]
     },
     "execution_count": 6,
     "metadata": {},
     "output_type": "execute_result"
    }
   ],
   "source": [
    "PLL_CLK=calc_PLL_CLK(12e6,1,1,7,1680)\n",
    "PLL_CLK"
   ]
  },
  {
   "cell_type": "markdown",
   "metadata": {},
   "source": [
    "<figure>\n",
    "    <center> CODEC CLKIN Clock Dividers\n",
    "        <img src=\"./images/03_04_clock_divider.jpg\" width=\"800\">\n",
    "        <cite>AIC3204 Datasheet SLOS602A</cite>\n",
    "    </center>\n",
    "</figure>"
   ]
  },
  {
   "cell_type": "code",
   "execution_count": 7,
   "metadata": {},
   "outputs": [],
   "source": [
    "def calc_ADC_FS(CODEC_CLKIN, NADC, MADC, AOSR):\n",
    "    return (CODEC_CLKIN/(NADC*MADC*AOSR))"
   ]
  },
  {
   "cell_type": "code",
   "execution_count": 8,
   "metadata": {},
   "outputs": [
    {
     "data": {
      "text/plain": [
       "48000.0"
      ]
     },
     "execution_count": 8,
     "metadata": {},
     "output_type": "execute_result"
    }
   ],
   "source": [
    "ADC_FS = calc_ADC_FS(PLL_CLK,7,2,128)\n",
    "ADC_FS"
   ]
  },
  {
   "cell_type": "code",
   "execution_count": 9,
   "metadata": {},
   "outputs": [],
   "source": [
    "def calc_PLLPR(fs , NADC=7, MADC=2, AOSR=128, PLL_CLKIN = 12e6, J=7, D = 1680, R = 1):\n",
    "    P = ((J+D/10**(len(str(D)))) * PLL_CLKIN * R) / (fs * (NADC * MADC * AOSR))\n",
    "    return hex(128 + (int(P) << 4) + R)"
   ]
  },
  {
   "cell_type": "code",
   "execution_count": 10,
   "metadata": {},
   "outputs": [
    {
     "data": {
      "text/plain": [
       "'0x91'"
      ]
     },
     "execution_count": 10,
     "metadata": {},
     "output_type": "execute_result"
    }
   ],
   "source": [
    "calc_PLLPR(48000)"
   ]
  },
  {
   "cell_type": "markdown",
   "metadata": {},
   "source": [
    "### C Function to Set Sampling Frequency and Gain"
   ]
  },
  {
   "cell_type": "code",
   "execution_count": 11,
   "metadata": {
    "hide_input": true
   },
   "outputs": [
    {
     "data": {
      "text/html": [
       "<center>\n",
       "<iframe width=\"560\" height=\"315\" src=\"https://www.youtube.com/embed/KWwquyBNRR8\" frameborder=\"0\" allow=\"accelerometer; encrypted-media; gyroscope; picture-in-picture\" allowfullscreen></iframe>\n",
       "</center>\n"
      ],
      "text/plain": [
       "<IPython.core.display.HTML object>"
      ]
     },
     "metadata": {},
     "output_type": "display_data"
    }
   ],
   "source": [
    "%%html\n",
    "<center>\n",
    "<iframe width=\"560\" height=\"315\" src=\"https://www.youtube.com/embed/KWwquyBNRR8\" frameborder=\"0\" allow=\"accelerometer; encrypted-media; gyroscope; picture-in-picture\" allowfullscreen></iframe>\n",
    "</center>"
   ]
  },
  {
   "cell_type": "markdown",
   "metadata": {},
   "source": [
    "aic3204.c\n",
    "Function to set register:\n",
    "```c\n",
    "Int16 AIC3204_rset( Uint16 regnum, Uint16 regval )\n",
    "{\n",
    "    Uint8 cmd[2];\n",
    "    cmd[0] = regnum & 0x007F;       // 7-bit Device Address\n",
    "    cmd[1] = regval;                // 8-bit Register Data\n",
    "\n",
    "    return USBSTK5505_I2C_write( AIC3204_I2C_ADDR, cmd, 2 );\n",
    "}```"
   ]
  },
  {
   "cell_type": "markdown",
   "metadata": {
    "slideshow": {
     "slide_type": "-"
    }
   },
   "source": [
    "aic3204_init.c\n",
    "Function to set Sampling Frequency and Gain\n",
    "```c\n",
    "unsigned long set_sampling_frequency_and_gain(unsigned long SamplingFrequency, unsigned int ADCgain)\n",
    "{\n",
    "    unsigned int PLLPR = 0x91; // Default to 48000 Hz \t\n",
    "    unsigned int gain;\n",
    "    unsigned long output;\n",
    "\n",
    "    if ( ADCgain >= 48)\n",
    "     {\n",
    "      gain = 95;      //  Limit gain to 47.5 dB\n",
    "      ADCgain = 48;   // For display using printf()\n",
    "     }\n",
    "    else \n",
    "    {\n",
    "     gain = (ADCgain << 1); // Convert 1dB steps to 0.5dB steps\n",
    "    }\n",
    "     \n",
    "    switch (SamplingFrequency)\n",
    "    {\n",
    "     case 48000:\n",
    "     \tPLLPR = 0x91; // 1001 0001b. PLL on. P = 1, R = 1. \n",
    "     \tprintf(\"Sampling frequency 48000 Hz Gain = %2d dB\\n\", ADCgain);\n",
    "     \toutput = 48000;\n",
    "     break;\n",
    "     \n",
    "     case 24000:\n",
    "      \tPLLPR = 0xA1; // 1010 0001b. PLL on. P = 2, R = 1.\n",
    "      \tprintf(\"Sampling frequency 24000 Hz Gain = %2d dB\\n\", ADCgain);\n",
    "      \toutput = 24000;   \n",
    "     break;\n",
    "     \n",
    "     case 16000:\n",
    "     \tPLLPR = 0xB1; // 1011 0001b. PLL on. P = 3, R = 1.\n",
    "      \tprintf(\"Sampling frequency 16000 Hz Gain = %2d dB\\n\", ADCgain); \n",
    "      \toutput = 16000;      \t\n",
    "     break;\n",
    "     \n",
    "     case 12000:\n",
    "        PLLPR = 0xC1; //1100 0001b. PLL on. P = 4, R = 1.\n",
    "        printf(\"Sampling frequency 12000 Hz Gain = %2d dB\\n\", ADCgain);\n",
    "        output = 12000;  \n",
    "     break;\n",
    "     \n",
    "     case 9600:\n",
    "     \tPLLPR = 0xD1; //1101 0001b. PLL on. P = 5, R = 1.\n",
    "       \tprintf(\"Sampling frequency 9600 Hz Gain = %2d dB\\n\", ADCgain); \n",
    "       \toutput = 9600; \n",
    "     break;\n",
    "     \n",
    "     case 8000:\n",
    "     \tPLLPR = 0xE1; //1110 0001b. PLL on. P = 6, R = 1.\n",
    "     \tprintf(\"Sampling frequency 8000 Hz Gain = %2d dB\\n\", ADCgain);\n",
    "     \toutput = 8000;  \n",
    "     break;   \t\n",
    "     \n",
    "     case 6857:\n",
    "     \tPLLPR = 0xF1; //1111 0001b. PLL on. P = 7, R = 1.\n",
    "     \tprintf(\"Sampling frequency 6857 Hz Gain = %2d dB\\n\", ADCgain);  \n",
    "     \toutput = 6857;    \n",
    "     break;\n",
    "     \n",
    "     default:\n",
    "     \tPLLPR = 0x91; // 1001 0001b. PLL on. P = 1, R = 1. \n",
    "     \tprintf(\"Sampling frequency not recognised. Default to 48000 Hz Gain = %2d dB\\n\", ADCgain);\n",
    "     \toutput = 48000;  \n",
    "     break;\n",
    "    } \n",
    " \n",
    "\n",
    "     \n",
    "    /* Configure Serial Bus */\n",
    "    SYS_EXBUSSEL |= 0x0100;  // Configure Serial bus 0 for I2S0\n",
    " \n",
    "     \n",
    "    /* Configure AIC3204 */\n",
    "\n",
    "    AIC3204_rset( 0, 0 );      // Select page 0\n",
    "    AIC3204_rset( 1, 1 );      // Reset codec\n",
    "    AIC3204_rset( 0, 1 );      // Point to page 1\n",
    "    AIC3204_rset( 1, 8 );      // Disable crude AVDD generation from DVDD\n",
    "    AIC3204_rset( 2, 1 );      // Enable Analog Blocks, use LDO power\n",
    "    AIC3204_rset( 0, 0 );\n",
    "    /* PLL and Clocks config and Power Up  */\n",
    "    AIC3204_rset( 27, 0x1d );  // BCLK and WCLK is set as o/p to AIC3204(Master)\n",
    "    AIC3204_rset( 28, 0x00 );  // Data ofset = 0\n",
    "    AIC3204_rset( 4, 3 );      // PLL setting: PLLCLK <- MCLK, CODEC_CLKIN <-PLL CLK\n",
    "    AIC3204_rset( 6, 7 );      // PLL setting: J=7\n",
    "    AIC3204_rset( 7, 0x06 );   // PLL setting: HI_BYTE(D)\n",
    "    AIC3204_rset( 8, 0x90 );   // PLL setting: LO_BYTE(D)\n",
    "    AIC3204_rset( 30, 0x88 );  // For 32 bit clocks per frame in Master mode ONLY\n",
    "                               // BCLK=DAC_CLK/N =(12288000/8) = 1.536MHz = 32*fs\n",
    "    AIC3204_rset( 5, PLLPR );   //PLL setting: Power up PLL, P=1 and R=1\n",
    "    AIC3204_rset( 13, 0 );     // Hi_Byte(DOSR) for DOSR = 128 decimal or 0x0080 DAC oversamppling\n",
    "    AIC3204_rset( 14, 0x80 );  // Lo_Byte(DOSR) for DOSR = 128 decimal or 0x0080\n",
    "    AIC3204_rset( 20, 0x80 );  // AOSR for AOSR = 128 decimal or 0x0080 for decimation filters 1 to 6\n",
    "    AIC3204_rset( 11, 0x87 );  // Power up NDAC and set NDAC value to 7\n",
    "    AIC3204_rset( 12, 0x82 );  // Power up MDAC and set MDAC value to 2\n",
    "    AIC3204_rset( 18, 0x87 );  // Power up NADC and set NADC value to 7\n",
    "    AIC3204_rset( 19, 0x82 );  // Power up MADC and set MADC value to 2\n",
    "    /* DAC ROUTING and Power Up */\n",
    "    AIC3204_rset( 0, 1 );      // Select page 1\n",
    "    AIC3204_rset( 0x0c, 8 );   // LDAC AFIR routed to HPL\n",
    "    AIC3204_rset( 0x0d, 8 );   // RDAC AFIR routed to HPR\n",
    "    AIC3204_rset( 0, 0 );      // Select page 0\n",
    "    AIC3204_rset( 64, 2 );     // Left vol=right vol\n",
    "    AIC3204_rset( 65, 0 );     // Left DAC gain to 0dB VOL; Right tracks Left\n",
    "    AIC3204_rset( 63, 0xd4 );  // Power up left,right data paths and set channel\n",
    "    AIC3204_rset( 0, 1 );      // Select page 1\n",
    "    AIC3204_rset( 0x10, 10 );  // Unmute HPL , 10dB gain\n",
    "    AIC3204_rset( 0x11, 10 );  // Unmute HPR , 10dB gain\n",
    "    AIC3204_rset( 9, 0x30 );   // Power up HPL,HPR\n",
    "    AIC3204_rset( 0, 0 );      // Select page 0\n",
    "    USBSTK5505_wait( 100 );    // wait\n",
    "    /* ADC ROUTING and Power Up */\n",
    "    AIC3204_rset( 0, 1 );      // Select page 1\n",
    "    AIC3204_rset( 0x34, 0x10 );// STEREO 1 Jack\n",
    "\t\t                       // IN2_L to LADC_P through 0 kohm\n",
    "    AIC3204_rset( 0x37, 0x10 );// IN2_R to RADC_P through 0 kohmm\n",
    "    AIC3204_rset( 0x36, 1 );   // CM_1 (common mode) to LADC_M through 0 kohm\n",
    "    AIC3204_rset( 0x39, 0x40 );// CM_1 (common mode) to RADC_M through 0 kohm\n",
    "    AIC3204_rset( 0x3b, gain );   // MIC_PGA_L unmute\n",
    "    AIC3204_rset( 0x3c, gain );   // MIC_PGA_R unmute\n",
    "    AIC3204_rset( 0, 0 );      // Select page 0\n",
    "    AIC3204_rset( 0x51, 0xc0 );// Powerup Left and Right ADC\n",
    "    AIC3204_rset( 0x52, 0 );   // Unmute Left and Right ADC\n",
    "    \n",
    "    AIC3204_rset( 0, 0 );    \n",
    "    USBSTK5505_wait( 100 );  // Wait\n",
    "    \n",
    "    /* I2S settings */\n",
    "    I2S0_SRGR = 0x0;     \n",
    "    I2S0_CR = 0x8010;    // 16-bit word, slave, enable I2C\n",
    "    I2S0_ICMR = 0x3f;    // Enable interrupts\n",
    "\n",
    " \treturn(output);\n",
    "}\n",
    "```"
   ]
  },
  {
   "cell_type": "markdown",
   "metadata": {},
   "source": [
    "## Configuring Sampling Rate and Input Gain: Code Composer Studio and Board"
   ]
  },
  {
   "cell_type": "code",
   "execution_count": 12,
   "metadata": {
    "hide_input": true
   },
   "outputs": [
    {
     "data": {
      "text/html": [
       "<center>\n",
       "<iframe width=\"560\" height=\"315\" src=\"https://www.youtube.com/embed/KWwquyBNRR8\" frameborder=\"0\" allow=\"accelerometer; encrypted-media; gyroscope; picture-in-picture\" allowfullscreen></iframe>\n",
       "</center>\n"
      ],
      "text/plain": [
       "<IPython.core.display.HTML object>"
      ]
     },
     "metadata": {},
     "output_type": "display_data"
    }
   ],
   "source": [
    "%%html\n",
    "<center>\n",
    "<iframe width=\"560\" height=\"315\" src=\"https://www.youtube.com/embed/KWwquyBNRR8\" frameborder=\"0\" allow=\"accelerometer; encrypted-media; gyroscope; picture-in-picture\" allowfullscreen></iframe>\n",
    "</center>"
   ]
  },
  {
   "cell_type": "code",
   "execution_count": null,
   "metadata": {},
   "outputs": [],
   "source": []
  }
 ],
 "metadata": {
  "kernelspec": {
   "display_name": "Python 3",
   "language": "python",
   "name": "python3"
  },
  "language_info": {
   "codemirror_mode": {
    "name": "ipython",
    "version": 3
   },
   "file_extension": ".py",
   "mimetype": "text/x-python",
   "name": "python",
   "nbconvert_exporter": "python",
   "pygments_lexer": "ipython3",
   "version": "3.7.4"
  },
  "livereveal": {
   "theme": "beige",
   "transition": "fade"
  }
 },
 "nbformat": 4,
 "nbformat_minor": 2
}

{
 "cells": [
  {
   "cell_type": "markdown",
   "metadata": {
    "slideshow": {
     "slide_type": "slide"
    }
   },
   "source": [
    "<p align=\"center\">\n",
    "    <img src=\"./images/logo_beap.png\">\n",
    "</p>\n",
    "\n",
    "### Renato Profeta <br> Guitars.AI <br> PhD Candidate / Researcher\n",
    "\n"
   ]
  },
  {
   "cell_type": "markdown",
   "metadata": {
    "slideshow": {
     "slide_type": "slide"
    }
   },
   "source": [
    "# The Hardware: TMS320C5515 eZdsp USB Stick"
   ]
  },
  {
   "cell_type": "code",
   "execution_count": 3,
   "metadata": {
    "hide_input": true
   },
   "outputs": [
    {
     "data": {
      "text/html": [
       "<center>\n",
       "<iframe width=\"560\" height=\"315\" src=\"https://www.youtube.com/embed/8jLT1U2aUtQ\" frameborder=\"0\" allow=\"accelerometer; encrypted-media; gyroscope; picture-in-picture\" allowfullscreen></iframe>\n",
       "</center>\n"
      ],
      "text/plain": [
       "<IPython.core.display.HTML object>"
      ]
     },
     "metadata": {},
     "output_type": "display_data"
    }
   ],
   "source": [
    "%%html\n",
    "<center>\n",
    "<iframe width=\"560\" height=\"315\" src=\"https://www.youtube.com/embed/8jLT1U2aUtQ\" frameborder=\"0\" allow=\"accelerometer; encrypted-media; gyroscope; picture-in-picture\" allowfullscreen></iframe>\n",
    "</center>"
   ]
  },
  {
   "cell_type": "markdown",
   "metadata": {
    "slideshow": {
     "slide_type": "-"
    }
   },
   "source": [
    "<figure>\n",
    "    <center>\n",
    "        <img src=\"./images/01_01_boardOverview.jpg\" width=\"800\">\n",
    "    <cite>\n",
    "        <figcaption>http://www.ti.com/</figcaption>\n",
    "    </cite>\n",
    "    </center>\n",
    "</figure>"
   ]
  },
  {
   "cell_type": "markdown",
   "metadata": {
    "slideshow": {
     "slide_type": "-"
    }
   },
   "source": [
    "## Components"
   ]
  },
  {
   "cell_type": "markdown",
   "metadata": {
    "slideshow": {
     "slide_type": "-"
    }
   },
   "source": [
    "  - TMS320C5515 Digital Signal Processor (DSP): Fixed-Point, 16-bit\n",
    "  - TLV320AIC3204 Stereo Codec (stereo in, stereo out)\n",
    "  - 32 Mb NOR Flash Memory\n",
    "  - Embedded USB XDS100 JTAG emulator\n",
    "  - Power provided by USB interface\n",
    "  - Micro SD connector\n",
    "  - USB 2.0 interface to C5515 processor\n",
    "  - 5 user controlled LEDs\n",
    "  - 2 user readable push button switches\n",
    "  - I2C OLED display\n",
    "  - Bluetooth board interface\n",
    "  - Expansion edge connector"
   ]
  },
  {
   "cell_type": "markdown",
   "metadata": {
    "slideshow": {
     "slide_type": "subslide"
    }
   },
   "source": [
    "### Block Diagram"
   ]
  },
  {
   "cell_type": "code",
   "execution_count": 5,
   "metadata": {
    "hide_input": true
   },
   "outputs": [
    {
     "data": {
      "text/html": [
       "<center>\n",
       "<iframe width=\"560\" height=\"315\" src=\"https://www.youtube.com/embed/t8a87pRZSoU\" frameborder=\"0\" allow=\"accelerometer; encrypted-media; gyroscope; picture-in-picture\" allowfullscreen></iframe>\n",
       "</center>\n"
      ],
      "text/plain": [
       "<IPython.core.display.HTML object>"
      ]
     },
     "metadata": {},
     "output_type": "display_data"
    }
   ],
   "source": [
    "%%html\n",
    "<center>\n",
    "<iframe width=\"560\" height=\"315\" src=\"https://www.youtube.com/embed/t8a87pRZSoU\" frameborder=\"0\" allow=\"accelerometer; encrypted-media; gyroscope; picture-in-picture\" allowfullscreen></iframe>\n",
    "</center>"
   ]
  },
  {
   "cell_type": "markdown",
   "metadata": {
    "slideshow": {
     "slide_type": "-"
    }
   },
   "source": [
    "<figure>\n",
    "    <center>\n",
    "        <img src=\"./images/01_02_blockdiagram.jpg\" widht=\"800\">\n",
    "    <cite>\n",
    "        <figcaption>https://www.eecs.umich.edu/courses/eecs452/Labs/Docs/usbstk5515_TechRef_RevA.pdf/</figcaption>\n",
    "    </cite>\n",
    "    </center>\n",
    "</figure>"
   ]
  },
  {
   "cell_type": "markdown",
   "metadata": {
    "slideshow": {
     "slide_type": "-"
    }
   },
   "source": [
    "### Bus Protocols"
   ]
  },
  {
   "cell_type": "markdown",
   "metadata": {
    "slideshow": {
     "slide_type": "-"
    }
   },
   "source": [
    " - Universal Serial Bus (USB)\n",
    " - Joint Test Action Group (JTAG)\n",
    " - Inter-Integrated Circuit (I²C)\n",
    " - Inter-IC Sound (I²S)\n",
    " - External Memory Interface (EMIF)"
   ]
  },
  {
   "cell_type": "markdown",
   "metadata": {
    "slideshow": {
     "slide_type": "slide"
    }
   },
   "source": [
    "## Digital Signal Processor (C5515)"
   ]
  },
  {
   "cell_type": "markdown",
   "metadata": {
    "slideshow": {
     "slide_type": "-"
    }
   },
   "source": [
    " - In general terms a digital signal processor chip is like a microcontroller optimizer for specific operations."
   ]
  },
  {
   "cell_type": "markdown",
   "metadata": {
    "slideshow": {
     "slide_type": "-"
    }
   },
   "source": [
    "### Fixed- vs. Floating- Point Devices"
   ]
  },
  {
   "cell_type": "markdown",
   "metadata": {
    "slideshow": {
     "slide_type": "-"
    }
   },
   "source": [
    " - **Fixed-point:**\n",
    "     - Designed for integers and fractions.\n",
    "     - Usually cheaper. faster, and low power.\n",
    " - **Floating-point:**\n",
    "     - Designed for floating-point data types. (Similar to scientifice notation of numbers. Described by a value that dictates        precision and an expoente that controls dynamic range.)\n",
    "     - Larger dynamic range."
   ]
  },
  {
   "cell_type": "markdown",
   "metadata": {
    "slideshow": {
     "slide_type": "-"
    }
   },
   "source": [
    "### Bit-Depth or Data Width"
   ]
  },
  {
   "cell_type": "markdown",
   "metadata": {
    "slideshow": {
     "slide_type": "-"
    }
   },
   "source": [
    " - In a very superficial explanation can be seen as the size of data that the processor can handle."
   ]
  },
  {
   "cell_type": "markdown",
   "metadata": {
    "slideshow": {
     "slide_type": "-"
    }
   },
   "source": [
    "For the C5515 we are using, we have a 16-bit, fixed-point processor. "
   ]
  },
  {
   "cell_type": "markdown",
   "metadata": {
    "slideshow": {
     "slide_type": "-"
    }
   },
   "source": [
    "### JTAG"
   ]
  },
  {
   "cell_type": "markdown",
   "metadata": {
    "slideshow": {
     "slide_type": "-"
    }
   },
   "source": [
    " - Interface that provides a way to communicate directly with the chip.\n",
    " - Allows testing, programming and debugging.\n",
    " - Components in a board can be daisy chained and accessed."
   ]
  },
  {
   "cell_type": "markdown",
   "metadata": {
    "slideshow": {
     "slide_type": "slide"
    }
   },
   "source": [
    "## Audio Codec (TLV320AIC3204)"
   ]
  },
  {
   "cell_type": "markdown",
   "metadata": {
    "slideshow": {
     "slide_type": "-"
    }
   },
   "source": [
    " - Handles both the analog-to-digital and the digital-to-analog in a single chip.\n",
    " - The TLV320AIC3204 has:\n",
    "     - Stereo Audio DAC with 100dB SNR.\n",
    "     - Stereo Audio ADC with 93dB SNR.\n",
    "     - Programmable inputs and outputs.\n",
    "     - Integrated PLL (Phase-locked Loop)"
   ]
  },
  {
   "cell_type": "markdown",
   "metadata": {
    "slideshow": {
     "slide_type": "-"
    }
   },
   "source": [
    "### I²C (Inter-integrated Circuit)"
   ]
  },
  {
   "cell_type": "markdown",
   "metadata": {
    "slideshow": {
     "slide_type": "-"
    }
   },
   "source": [
    " - Allow multiple \"slave\" digital integrated circuitsto communicate with one or more \"master\" chips. "
   ]
  },
  {
   "cell_type": "markdown",
   "metadata": {
    "slideshow": {
     "slide_type": "-"
    }
   },
   "source": [
    "### I²S (Inter-integrated Circuit Sound)"
   ]
  },
  {
   "cell_type": "markdown",
   "metadata": {
    "slideshow": {
     "slide_type": "-"
    }
   },
   "source": [
    " - Serial bus designed for audio data.\n",
    " - Clock and data are separated."
   ]
  }
 ],
 "metadata": {
  "celltoolbar": "Slideshow",
  "kernelspec": {
   "display_name": "Python 3",
   "language": "python",
   "name": "python3"
  },
  "language_info": {
   "codemirror_mode": {
    "name": "ipython",
    "version": 3
   },
   "file_extension": ".py",
   "mimetype": "text/x-python",
   "name": "python",
   "nbconvert_exporter": "python",
   "pygments_lexer": "ipython3",
   "version": "3.7.4"
  },
  "livereveal": {
   "theme": "beige",
   "transition": "fade"
  }
 },
 "nbformat": 4,
 "nbformat_minor": 2
}
